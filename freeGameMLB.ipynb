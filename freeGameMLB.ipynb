{
 "cells": [
  {
   "cell_type": "code",
   "execution_count": 1,
   "metadata": {
    "collapsed": true
   },
   "outputs": [],
   "source": [
    "from bs4 import BeautifulSoup\n",
    "import requests\n",
    "import smtplib\n",
    "from email.MIMEMultipart import MIMEMultipart\n",
    "from email.MIMEText import MIMEText\n",
    "from datetime import datetime"
   ]
  },
  {
   "cell_type": "code",
   "execution_count": 2,
   "metadata": {
    "collapsed": true
   },
   "outputs": [],
   "source": [
    "def send_email(text):\n",
    "    \n",
    "    FROM = my_email\n",
    "    TO = my_email\n",
    "    SUBJECT = text\n",
    "    BODY = text\n",
    "    message = 'Subject: {}\\n\\n{}'.format(SUBJECT, BODY)\n",
    "\n",
    "    server = smtplib.SMTP('smtp.gmail.com', 587)\n",
    "    server.starttls()\n",
    "    server.login(my_email, my_password)\n",
    "    server.sendmail(FROM, TO, message)\n",
    "    server.quit()"
   ]
  },
  {
   "cell_type": "code",
   "execution_count": 3,
   "metadata": {
    "collapsed": false
   },
   "outputs": [],
   "source": [
    "url = \"https://www.mlb.com/live-stream-games/\" + datetime.now().strftime(\"%Y/%m/%d\")\n",
    "my_team = \"Mets\"\n",
    "\n",
    "f = open(\"email.txt\",\"r\")\n",
    "my_email = f.read()\n",
    "f.close()\n",
    "\n",
    "f = open(\"pw.txt\",\"r\")\n",
    "my_password = f.read()\n",
    "f.close()\n",
    "\n",
    "r  = requests.get(url)\n",
    "data = r.text\n",
    "soup = BeautifulSoup(data, \"lxml\")"
   ]
  },
  {
   "cell_type": "code",
   "execution_count": 65,
   "metadata": {
    "collapsed": false
   },
   "outputs": [],
   "source": [
    "for row in soup.findAll(\"tr\", class_=\"free-game\"):\n",
    "    teams = row.find(\"span\", class_=\"card-title-teams\").text\n",
    "    if my_team in teams:\n",
    "        send_email(\"The \" + my_team + \" game is the Free Game of the Day!\")\n",
    "        \n",
    "for row in soup.findAll(\"div\", class_=\"card-container facebook\"):\n",
    "    for row in row.findAll(\"span\", class_=\"card-title-name\"):\n",
    "        if my_team in row.text:\n",
    "            send_email(\"The \" + my_team + \" game is the Facebook Game of the Week!\")\n",
    "\n",
    "for div in soup.findAll(\"div\", class_=\"card-container\"):\n",
    "    for span in div.findAll(\"span\", class_=\"card-title-name\"):\n",
    "        if my_team in span.text:\n",
    "            for div1 in div.findAll(\"div\", class_=\"card-info mlbtv-card-info\"):\n",
    "                for span1 in div1.findAll(\"span\", class_=\"card-info-link\"):\n",
    "                    if \"ESPN\" in span1.text:\n",
    "                        send_email(\"The \" + my_team + \" game is on ESPN!\")\n",
    "                    elif \"FOX\" in span1.text:\n",
    "                        send_email(\"The \" + my_team + \" game is on FOX!\")"
   ]
  },
  {
   "cell_type": "code",
   "execution_count": null,
   "metadata": {
    "collapsed": true
   },
   "outputs": [],
   "source": []
  }
 ],
 "metadata": {
  "anaconda-cloud": {},
  "kernelspec": {
   "display_name": "Python [conda root]",
   "language": "python",
   "name": "conda-root-py"
  },
  "language_info": {
   "codemirror_mode": {
    "name": "ipython",
    "version": 2
   },
   "file_extension": ".py",
   "mimetype": "text/x-python",
   "name": "python",
   "nbconvert_exporter": "python",
   "pygments_lexer": "ipython2",
   "version": "2.7.12"
  }
 },
 "nbformat": 4,
 "nbformat_minor": 1
}
